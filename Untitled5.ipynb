{
 "cells": [
  {
   "cell_type": "code",
   "execution_count": 7,
   "id": "edf85638",
   "metadata": {},
   "outputs": [
    {
     "name": "stdout",
     "output_type": "stream",
     "text": [
      "işlem seçiniz:3\n",
      "3.işlem seçildi.\n"
     ]
    }
   ],
   "source": [
    "İşlem = int(input(\"işlem seçiniz:\"))\n",
    "if İşlem == 1:\n",
    "    print(\"1.işlem seçildi.\")\n",
    "elif İşlem == 2:\n",
    "    print(\"2.işlem sewçildi.\")\n",
    "elif İşlem == 3:\n",
    "    print(\"3.işlem seçildi.\")\n",
    "else:\n",
    "    print(\"Geçersiz işlem!\")"
   ]
  },
  {
   "cell_type": "code",
   "execution_count": 9,
   "id": "823d96e0",
   "metadata": {},
   "outputs": [
    {
     "name": "stdout",
     "output_type": "stream",
     "text": [
      "Mezuniyetinizi yazınız:Lisans\n",
      "İşe giriş yapabilir.\n"
     ]
    }
   ],
   "source": [
    "Mezuniyet = input(\"Mezuniyetinizi yazınız:\")\n",
    "if Mezuniyet == \"Yüksek Lisans\":\n",
    "    print(\"İşe giriş yapabilir.\")\n",
    "elif Mezuniyet == \"Lisans\":\n",
    "    print(\"İşe giriş yapabilir.\")\n",
    "elif Mezuniyet == \"Lise\":\n",
    "    print(\"Başvuru yapabilir.\")\n",
    "else:\n",
    "    print(\"Başvuru yapamaz\")"
   ]
  },
  {
   "cell_type": "markdown",
   "id": "09257bac",
   "metadata": {},
   "source": [
    "# and operatörü"
   ]
  },
  {
   "cell_type": "markdown",
   "id": "5d660e5d",
   "metadata": {},
   "source": [
    "Sağındaki ve solundaki kouşlların doğru olması gerekir. Yani her iki durumun da (verinin de) doğru olduğu durumda kullanılır."
   ]
  },
  {
   "cell_type": "markdown",
   "id": "d8cce84e",
   "metadata": {},
   "source": [
    "# or operatörü"
   ]
  },
  {
   "cell_type": "markdown",
   "id": "bacb7247",
   "metadata": {},
   "source": [
    "Şartlardan sadece bir tanesinin doğru olması yeterlidir."
   ]
  },
  {
   "cell_type": "code",
   "execution_count": 13,
   "id": "03c472ff",
   "metadata": {},
   "outputs": [
    {
     "name": "stdout",
     "output_type": "stream",
     "text": [
      "False\n"
     ]
    }
   ],
   "source": [
    "a=3\n",
    "b=4\n",
    "print(a==b)"
   ]
  },
  {
   "cell_type": "code",
   "execution_count": 14,
   "id": "18c13b22",
   "metadata": {},
   "outputs": [
    {
     "name": "stdout",
     "output_type": "stream",
     "text": [
      "True\n"
     ]
    }
   ],
   "source": [
    "a=7\n",
    "b=7\n",
    "print(a==b)"
   ]
  },
  {
   "cell_type": "code",
   "execution_count": 16,
   "id": "fa901147",
   "metadata": {},
   "outputs": [
    {
     "name": "stdout",
     "output_type": "stream",
     "text": [
      "True\n"
     ]
    }
   ],
   "source": [
    "a=9\n",
    "b=5\n",
    "print(a>b and b<6)"
   ]
  },
  {
   "cell_type": "code",
   "execution_count": 17,
   "id": "ce60dbe0",
   "metadata": {},
   "outputs": [
    {
     "name": "stdout",
     "output_type": "stream",
     "text": [
      "False\n"
     ]
    }
   ],
   "source": [
    "a=7\n",
    "b=2\n",
    "print(a==b and a>b)"
   ]
  },
  {
   "cell_type": "markdown",
   "id": "39e3bce0",
   "metadata": {},
   "source": [
    "Yukarıda örneklerde görüldüğü gibi \"and\" bağlacı kullanıldığında her iki verinin de doğru olması gerekmektedir. verilerden biri ya da ikisi yanlış olduğunda sonucu \"false\" olarak vermektedir."
   ]
  },
  {
   "cell_type": "code",
   "execution_count": 19,
   "id": "62d5085b",
   "metadata": {},
   "outputs": [
    {
     "name": "stdout",
     "output_type": "stream",
     "text": [
      "True\n"
     ]
    }
   ],
   "source": [
    "a=2\n",
    "b=4\n",
    "print(a!=b or a>8)"
   ]
  },
  {
   "cell_type": "code",
   "execution_count": 20,
   "id": "71b0c278",
   "metadata": {},
   "outputs": [
    {
     "name": "stdout",
     "output_type": "stream",
     "text": [
      "True\n"
     ]
    }
   ],
   "source": [
    "a=5\n",
    "b=9\n",
    "print(a<b or b>a)"
   ]
  },
  {
   "cell_type": "code",
   "execution_count": 28,
   "id": "79e463aa",
   "metadata": {},
   "outputs": [
    {
     "name": "stdout",
     "output_type": "stream",
     "text": [
      "False\n"
     ]
    }
   ],
   "source": [
    "a=3\n",
    "b=8\n",
    "print((a*b)>25 or a>b)"
   ]
  },
  {
   "cell_type": "markdown",
   "id": "84edd6f4",
   "metadata": {},
   "source": [
    "Örneklerde görüldüğü üzere \"or\" bağlacı kullanıldığında her iki veri veya en az bir veri doğru olduğunda sonuç doğru (true), iki veri de yanlış olduğunda yanlış (false) sonucunu vermeketedir."
   ]
  },
  {
   "cell_type": "markdown",
   "id": "f18bfbdd",
   "metadata": {},
   "source": [
    "# in operatörü"
   ]
  },
  {
   "cell_type": "markdown",
   "id": "b316ac59",
   "metadata": {},
   "source": [
    "Aranılan ifadenin veri içinde olup olmaığını ifade eder. Sonuç doğruysa \"true\" yanıtını verir."
   ]
  },
  {
   "cell_type": "code",
   "execution_count": 29,
   "id": "86659cd4",
   "metadata": {},
   "outputs": [
    {
     "data": {
      "text/plain": [
       "True"
      ]
     },
     "execution_count": 29,
     "metadata": {},
     "output_type": "execute_result"
    }
   ],
   "source": [
    "\"a\" in \"Yasemin\""
   ]
  },
  {
   "cell_type": "code",
   "execution_count": 30,
   "id": "efabf290",
   "metadata": {},
   "outputs": [
    {
     "data": {
      "text/plain": [
       "False"
      ]
     },
     "execution_count": 30,
     "metadata": {},
     "output_type": "execute_result"
    }
   ],
   "source": [
    "\"l\" in \"Kadir\""
   ]
  },
  {
   "cell_type": "code",
   "execution_count": 31,
   "id": "8a421907",
   "metadata": {},
   "outputs": [
    {
     "data": {
      "text/plain": [
       "True"
      ]
     },
     "execution_count": 31,
     "metadata": {},
     "output_type": "execute_result"
    }
   ],
   "source": [
    "\"love\" in \"Kadir love Yasemin\""
   ]
  },
  {
   "cell_type": "markdown",
   "id": "de68db07",
   "metadata": {},
   "source": [
    "# for döngüsü"
   ]
  },
  {
   "cell_type": "code",
   "execution_count": 36,
   "id": "1e00c84a",
   "metadata": {},
   "outputs": [
    {
     "name": "stdout",
     "output_type": "stream",
     "text": [
      "Lİstede var.\n",
      "Listede var.\n",
      "Listede var.\n",
      "Listede var.\n",
      "Listede var.\n",
      "Listede var.\n",
      "Listede var.\n",
      "Listede var.\n",
      "Listede var.\n",
      "Listede var.\n"
     ]
    }
   ],
   "source": [
    "sayılar = [0, 1, 2, 3, 4, 5, 6, 7, 8, 9]\n",
    "for eleman in sayılar:\n",
    "    if eleman == 0:\n",
    "        print(\"Lİstede var.\")\n",
    "    elif eleman == 1:\n",
    "        print(\"Listede var.\")\n",
    "    elif eleman == 2:\n",
    "        print(\"Listede var.\")\n",
    "    elif eleman == 3:\n",
    "        print(\"Listede var.\")\n",
    "    elif eleman == 4:\n",
    "        print(\"Listede var.\")\n",
    "    elif eleman == 5:\n",
    "        print(\"Listede var.\")\n",
    "    elif eleman == 6:\n",
    "        print(\"Listede var.\")\n",
    "    elif eleman == 7:\n",
    "        print(\"Listede var.\")\n",
    "    elif eleman == 8:\n",
    "        print(\"Listede var.\")\n",
    "    elif eleman == 9:\n",
    "        print(\"Listede var.\")\n",
    "    else:\n",
    "        print(\"Listede yok.\")"
   ]
  },
  {
   "cell_type": "markdown",
   "id": "4075ee70",
   "metadata": {},
   "source": [
    "# open komutu"
   ]
  },
  {
   "cell_type": "markdown",
   "id": "58f17059",
   "metadata": {},
   "source": [
    "Dosya açmaya veya oluşturmaya yarayan bir komuttur."
   ]
  },
  {
   "cell_type": "code",
   "execution_count": 40,
   "id": "cbbe58db",
   "metadata": {},
   "outputs": [
    {
     "data": {
      "text/plain": [
       "<_io.TextIOWrapper name='C:\\\\Users\\\\BT-101\\\\Desktop\\\\veri seti.txt' mode='w' encoding='cp1254'>"
      ]
     },
     "execution_count": 40,
     "metadata": {},
     "output_type": "execute_result"
    }
   ],
   "source": [
    "open(\"C:\\\\Users\\\\BT-101\\\\Desktop\\\\veri seti.txt\",\"w\")"
   ]
  },
  {
   "cell_type": "code",
   "execution_count": 41,
   "id": "e9fedbaa",
   "metadata": {},
   "outputs": [],
   "source": [
    "file = open(\"C:\\\\Users\\\\BT-101\\\\Desktop\\\\bilgiler.txt\",\"w\",encoding=\"utf-8\")"
   ]
  },
  {
   "cell_type": "code",
   "execution_count": 42,
   "id": "ca5709bb",
   "metadata": {},
   "outputs": [
    {
     "data": {
      "text/plain": [
       "18"
      ]
     },
     "execution_count": 42,
     "metadata": {},
     "output_type": "execute_result"
    }
   ],
   "source": [
    "file.write(\"Merhaba Pınarhisar\")"
   ]
  },
  {
   "cell_type": "code",
   "execution_count": 44,
   "id": "ca1ef72d",
   "metadata": {},
   "outputs": [],
   "source": [
    "file = open(\"C:\\\\Users\\\\BT-101\\\\Desktop\\\\bilgiler.txt\",\"r\",encoding=\"utf-8\")"
   ]
  },
  {
   "cell_type": "code",
   "execution_count": 61,
   "id": "691c0c14",
   "metadata": {},
   "outputs": [],
   "source": [
    "file = open(\"C://Users//BT-101//Desktop//veri seti.txt\",\"w\",encoding=\"utf-8\")"
   ]
  },
  {
   "cell_type": "code",
   "execution_count": 62,
   "id": "4ae57437",
   "metadata": {},
   "outputs": [
    {
     "data": {
      "text/plain": [
       "30"
      ]
     },
     "execution_count": 62,
     "metadata": {},
     "output_type": "execute_result"
    }
   ],
   "source": [
    "file.write(\"Merhaba, iyi günler, nasılsın?\")"
   ]
  },
  {
   "cell_type": "code",
   "execution_count": 54,
   "id": "1cf36a45",
   "metadata": {},
   "outputs": [],
   "source": [
    "file = open(\"C:\\\\Users\\\\BT-101\\\\Desktop\\\\veri seti.txt\",\"r\",encoding=\"utf-8\")"
   ]
  },
  {
   "cell_type": "code",
   "execution_count": 55,
   "id": "1d621474",
   "metadata": {},
   "outputs": [],
   "source": [
    "for a in file:\n",
    "    print(a)\n",
    "file.close()"
   ]
  },
  {
   "cell_type": "markdown",
   "id": "2275b147",
   "metadata": {},
   "source": [
    "Hoşça kal."
   ]
  },
  {
   "cell_type": "code",
   "execution_count": 65,
   "id": "efadb15d",
   "metadata": {},
   "outputs": [],
   "source": [
    "file = open(\"C:\\\\Users\\\\BT-101\\\\Desktop\\\\veri seti.txt\",\"r\",encoding=\"utf-8\")"
   ]
  },
  {
   "cell_type": "code",
   "execution_count": 66,
   "id": "88d46d3b",
   "metadata": {},
   "outputs": [
    {
     "data": {
      "text/plain": [
       "['Merhaba, iyi günler, nasılsın?\\n',\n",
       " 'Pınarhisar Mesleki ve Teknik Anadolu Lisesi\\n',\n",
       " 'Bilişim Teknolojileri Alanı Laboratuvar 1\\n',\n",
       " 'Yapay Zeka Eğitimi\\n',\n",
       " '08.03.2023']"
      ]
     },
     "execution_count": 66,
     "metadata": {},
     "output_type": "execute_result"
    }
   ],
   "source": [
    "file.readlines()"
   ]
  },
  {
   "cell_type": "code",
   "execution_count": null,
   "id": "b92eed77",
   "metadata": {},
   "outputs": [],
   "source": []
  }
 ],
 "metadata": {
  "kernelspec": {
   "display_name": "Python 3 (ipykernel)",
   "language": "python",
   "name": "python3"
  },
  "language_info": {
   "codemirror_mode": {
    "name": "ipython",
    "version": 3
   },
   "file_extension": ".py",
   "mimetype": "text/x-python",
   "name": "python",
   "nbconvert_exporter": "python",
   "pygments_lexer": "ipython3",
   "version": "3.9.13"
  }
 },
 "nbformat": 4,
 "nbformat_minor": 5
}
