{
 "cells": [
  {
   "cell_type": "code",
   "execution_count": 3,
   "id": "93f20481",
   "metadata": {},
   "outputs": [
    {
     "name": "stdout",
     "output_type": "stream",
     "text": [
      "[55.  81.  55.5 79.5 57.5]\n"
     ]
    }
   ],
   "source": [
    "import numpy as np\n",
    "Vize = [70, 90, 45, 68, 32]\n",
    "Final = [40,72, 66, 91, 83]\n",
    "\n",
    "Vize_np = np.array(Vize)\n",
    "Final_np = np.array(Final)\n",
    "\n",
    "Ortalama = (Vize_np + Final_np)/2\n",
    "print(Ortalama)"
   ]
  },
  {
   "cell_type": "code",
   "execution_count": 5,
   "id": "56ad832b",
   "metadata": {},
   "outputs": [
    {
     "name": "stdout",
     "output_type": "stream",
     "text": [
      "[11.  16.2 11.1 15.9 11.5]\n"
     ]
    }
   ],
   "source": [
    "import numpy as np\n",
    "Vize = [70, 90, 45, 68, 32]\n",
    "Final = [40,72, 66, 91, 83]\n",
    "\n",
    "Vize_np = np.array(Vize)\n",
    "Final_np = np.array(Final)\n",
    "\n",
    "Ortalama = (Vize_np + Final_np)/2\n",
    "print(Ortalama/5)"
   ]
  },
  {
   "cell_type": "code",
   "execution_count": 6,
   "id": "f45e6bb4",
   "metadata": {},
   "outputs": [
    {
     "name": "stdout",
     "output_type": "stream",
     "text": [
      "[[1 2 3]\n",
      " [4 5 6]]\n"
     ]
    }
   ],
   "source": [
    "import numpy as np\n",
    "\n",
    "# 2 boyutlu bir numpy dizisi oluşturma\n",
    "my_array = np.array([[1, 2, 3], [4, 5, 6]])\n",
    "print(my_array)"
   ]
  },
  {
   "cell_type": "code",
   "execution_count": 7,
   "id": "b7cc4b56",
   "metadata": {},
   "outputs": [
    {
     "name": "stdout",
     "output_type": "stream",
     "text": [
      "81.0\n"
     ]
    }
   ],
   "source": [
    "import numpy as np\n",
    "arr = np.array([55, 81, 55.5, 79.5, 57.5])\n",
    "max_value = np.amax(arr)\n",
    "print(max_value)"
   ]
  },
  {
   "cell_type": "code",
   "execution_count": 11,
   "id": "d8359741",
   "metadata": {},
   "outputs": [
    {
     "name": "stdout",
     "output_type": "stream",
     "text": [
      "80 99 80\n"
     ]
    }
   ],
   "source": [
    "import numpy as np\n",
    "Türkçe = np.array([55, 80, 49, 60, 77])\n",
    "Matematik = np.array([35, 48, 99, 82, 67])\n",
    "Tarih = np.array([45, 72, 80, 63, 25])\n",
    "\n",
    "max_value_Tü = np.amax(Türkçe)\n",
    "max_value_Ma = np.amax(Matematik)\n",
    "max_value_Ta = np.amax(Tarih)\n",
    "print(max_value_Tü, max_value_Ma, max_value_Ta)"
   ]
  },
  {
   "cell_type": "code",
   "execution_count": 14,
   "id": "f23ed4df",
   "metadata": {},
   "outputs": [
    {
     "name": "stdout",
     "output_type": "stream",
     "text": [
      "[1, 2, 3, 4, 5]\n"
     ]
    }
   ],
   "source": [
    "import pandas as pd\n",
    "my_list = [1, 2, 3, 4, 5]\n",
    "my_Series = pd.Series(my_list)\n",
    "print(my_list)"
   ]
  },
  {
   "cell_type": "code",
   "execution_count": 15,
   "id": "e4a73e11",
   "metadata": {},
   "outputs": [
    {
     "name": "stdout",
     "output_type": "stream",
     "text": [
      "    name  age\n",
      "0    Ali   25\n",
      "1   Veli   30\n",
      "2  Ahmet   35\n"
     ]
    }
   ],
   "source": [
    "import pandas as pd\n",
    "\n",
    "my_dict = {\"name\":[\"Ali\", \"Veli\", \"Ahmet\"], \"age\": [25, 30, 35]}\n",
    "my_dataframe = pd.DataFrame(my_dict)\n",
    "print(my_dataframe)"
   ]
  },
  {
   "cell_type": "code",
   "execution_count": 19,
   "id": "abbc0876",
   "metadata": {},
   "outputs": [
    {
     "name": "stdout",
     "output_type": "stream",
     "text": [
      "    Sıra No     Adı    Soyadı  Sınıfı  Numarası\n",
      "0         1   Ahmet     Güzel      10        45\n",
      "1         2  Mehmet  Çalışkan      10        56\n",
      "2         3     Ali     Temiz      11        78\n",
      "3         4    Veli     Titiz      11        34\n",
      "4         5    Ayşe     Cesur      11        88\n",
      "5         6   Fatma    Dürüst      12        33\n",
      "6         7     Ali     Titiz      12        98\n",
      "7         8   Ahmet     Cesur       9        99\n",
      "8         9   Fatma  Çalışkan       9        77\n",
      "9        10    Seda     Yiğit       9        22\n",
      "10       11   Merve     Yiğit      10        36\n",
      "11       12   Hasan     Cesur      10        68\n",
      "12       13  Mehmet     Yiğit      11        79\n",
      "13       14     Ali     Cesur      12        24\n",
      "14       15    Ayşe     Güzel      12        18\n"
     ]
    }
   ],
   "source": [
    "import pandas as pd\n",
    "\n",
    "my_dataframe = pd.read_excel(\"C:\\\\Users\\\\BT-101\\\\Desktop\\\\data.xlsx\")\n",
    "print(my_dataframe)"
   ]
  },
  {
   "cell_type": "code",
   "execution_count": 22,
   "id": "b2f4ae2e",
   "metadata": {},
   "outputs": [
    {
     "name": "stdout",
     "output_type": "stream",
     "text": [
      "   sepal_length  sepal_width  petal_length  petal_width species\n",
      "0           5.1          3.5           1.4          0.2  setosa\n",
      "1           4.9          3.0           1.4          0.2  setosa\n",
      "2           4.7          3.2           1.3          0.2  setosa\n",
      "3           4.6          3.1           1.5          0.2  setosa\n",
      "4           5.0          3.6           1.4          0.2  setosa\n"
     ]
    }
   ],
   "source": [
    "import seaborn as sns\n",
    "iris = sns.load_dataset(\"iris\")\n",
    "print(iris.head())"
   ]
  },
  {
   "cell_type": "code",
   "execution_count": 28,
   "id": "ffceb8d2",
   "metadata": {},
   "outputs": [
    {
     "name": "stdout",
     "output_type": "stream",
     "text": [
      "                                           Title  Rating  Year     Month  \\\n",
      "0                       Avatar: The Way of Water     7.8  2022  December   \n",
      "1                 Guillermo del Toro's Pinocchio     7.6  2022  December   \n",
      "2                                   Bullet Train     7.3  2022    August   \n",
      "3                      The Banshees of Inisherin     7.8  2022  November   \n",
      "4                                          M3gan     6.4  2022  December   \n",
      "...                                          ...     ...   ...       ...   \n",
      "1995                       A Tale of Two Sisters     7.1  2003      June   \n",
      "1996  Lara Croft Tomb Raider: The Cradle of Life     5.5  2003      July   \n",
      "1997                                     Gothika     5.8  2003  November   \n",
      "1998                   Ong-Bak: The Thai Warrior     7.1  2003  February   \n",
      "1999                                  Open Water     5.8  2003    August   \n",
      "\n",
      "     Certificate Runtime                           Directors  \\\n",
      "0          PG-13     192                       James Cameron   \n",
      "1             PG     117  Guillermo del Toro, Mark Gustafson   \n",
      "2              R     127                        David Leitch   \n",
      "3              R     114                     Martin McDonagh   \n",
      "4          PG-13     102                    Gerard Johnstone   \n",
      "...          ...     ...                                 ...   \n",
      "1995           R     114                        Jee woon Kim   \n",
      "1996       PG-13     117                         Jan de Bont   \n",
      "1997           R      98                   Mathieu Kassovitz   \n",
      "1998           R     105                     Prachya Pinkaew   \n",
      "1999           R      79                        Chris Kentis   \n",
      "\n",
      "                                                  Stars  \\\n",
      "0     Sam Worthington, Zoe Saldana, Sigourney Weaver...   \n",
      "1     Ewan McGregor, David Bradley, Gregory Mann, Bu...   \n",
      "2     Brad Pitt, Joey King, Aaron Taylor Johnson, Br...   \n",
      "3     Colin Farrell, Brendan Gleeson, Kerry Condon, ...   \n",
      "4     Jenna Davis, Amie Donald, Allison Williams, Vi...   \n",
      "...                                                 ...   \n",
      "1995  Lim Soo jung, Yum Jung ah, Kim Kap su, Moon Ge...   \n",
      "1996  Angelina Jolie, Gerard Butler, Chris Barrie, C...   \n",
      "1997  Halle Berry, Pen lope Cruz, Robert Downey Jr ,...   \n",
      "1998  Tony Jaa, Phetthai Vongkumlao, Pumwaree Yodkam...   \n",
      "1999  Blanchard Ryan, Daniel Travis, Saul Stein, Mic...   \n",
      "\n",
      "                           Genre Filming_location         Budget  \\\n",
      "0     Action, Adventure, Fantasy      New Zealand  $350,000,000    \n",
      "1       Animation, Drama, Family              USA   $35,000,000    \n",
      "2       Action, Comedy, Thriller            Japan   $85,900,000    \n",
      "3                  Comedy, Drama          Ireland        Unknown   \n",
      "4       Horror, Sci-Fi, Thriller      New Zealand   $12,000,000    \n",
      "...                          ...              ...            ...   \n",
      "1995      Drama, Horror, Mystery      South Korea        Unknown   \n",
      "1996  Action, Adventure, Fantasy           Greece   $95,000,000    \n",
      "1997   Horror, Mystery, Thriller           Canada   $40,000,000    \n",
      "1998     Action, Crime, Thriller         Thailand        Unknown   \n",
      "1999    Adventure, Drama, Horror          Bahamas      $500,000    \n",
      "\n",
      "               Income                                  Country_of_origin  \n",
      "0     $2,267,946,983                                       United States  \n",
      "1           $108,967                       United States, Mexico, France  \n",
      "2       $239,268,602                                Japan, United States  \n",
      "3        $19,720,823              Ireland, United Kingdom, United States  \n",
      "4       $171,253,910                                       United States  \n",
      "...               ...                                                ...  \n",
      "1995      $1,062,878                                         South Korea  \n",
      "1996    $160,099,222   United States, Germany, Japan, United Kingdom,...  \n",
      "1997    $141,591,324                United States, France, Canada, Spain  \n",
      "1998     $20,235,426                         Thailand, France, Hong Kong  \n",
      "1999     $54,683,487                                       United States  \n",
      "\n",
      "[2000 rows x 13 columns]\n"
     ]
    }
   ],
   "source": [
    "import pandas as pd\n",
    "\n",
    "my_movies = pd.read_csv(\"C:\\\\Users\\\\BT-101\\\\Desktop\\\\movies.csv\")\n",
    "print(my_movies)"
   ]
  },
  {
   "cell_type": "code",
   "execution_count": 30,
   "id": "2e7b3bf2",
   "metadata": {},
   "outputs": [
    {
     "ename": "KeyError",
     "evalue": "'sepal_lenght'",
     "output_type": "error",
     "traceback": [
      "\u001b[1;31m---------------------------------------------------------------------------\u001b[0m",
      "\u001b[1;31mKeyError\u001b[0m                                  Traceback (most recent call last)",
      "\u001b[1;32mC:\\ProgramData\\Anaconda3\\lib\\site-packages\\pandas\\core\\indexes\\base.py\u001b[0m in \u001b[0;36mget_loc\u001b[1;34m(self, key, method, tolerance)\u001b[0m\n\u001b[0;32m   3628\u001b[0m             \u001b[1;32mtry\u001b[0m\u001b[1;33m:\u001b[0m\u001b[1;33m\u001b[0m\u001b[1;33m\u001b[0m\u001b[0m\n\u001b[1;32m-> 3629\u001b[1;33m                 \u001b[1;32mreturn\u001b[0m \u001b[0mself\u001b[0m\u001b[1;33m.\u001b[0m\u001b[0m_engine\u001b[0m\u001b[1;33m.\u001b[0m\u001b[0mget_loc\u001b[0m\u001b[1;33m(\u001b[0m\u001b[0mcasted_key\u001b[0m\u001b[1;33m)\u001b[0m\u001b[1;33m\u001b[0m\u001b[1;33m\u001b[0m\u001b[0m\n\u001b[0m\u001b[0;32m   3630\u001b[0m             \u001b[1;32mexcept\u001b[0m \u001b[0mKeyError\u001b[0m \u001b[1;32mas\u001b[0m \u001b[0merr\u001b[0m\u001b[1;33m:\u001b[0m\u001b[1;33m\u001b[0m\u001b[1;33m\u001b[0m\u001b[0m\n",
      "\u001b[1;32mC:\\ProgramData\\Anaconda3\\lib\\site-packages\\pandas\\_libs\\index.pyx\u001b[0m in \u001b[0;36mpandas._libs.index.IndexEngine.get_loc\u001b[1;34m()\u001b[0m\n",
      "\u001b[1;32mC:\\ProgramData\\Anaconda3\\lib\\site-packages\\pandas\\_libs\\index.pyx\u001b[0m in \u001b[0;36mpandas._libs.index.IndexEngine.get_loc\u001b[1;34m()\u001b[0m\n",
      "\u001b[1;32mpandas\\_libs\\hashtable_class_helper.pxi\u001b[0m in \u001b[0;36mpandas._libs.hashtable.PyObjectHashTable.get_item\u001b[1;34m()\u001b[0m\n",
      "\u001b[1;32mpandas\\_libs\\hashtable_class_helper.pxi\u001b[0m in \u001b[0;36mpandas._libs.hashtable.PyObjectHashTable.get_item\u001b[1;34m()\u001b[0m\n",
      "\u001b[1;31mKeyError\u001b[0m: 'sepal_lenght'",
      "\nThe above exception was the direct cause of the following exception:\n",
      "\u001b[1;31mKeyError\u001b[0m                                  Traceback (most recent call last)",
      "\u001b[1;32m~\\AppData\\Local\\Temp\\ipykernel_10596\\2960700853.py\u001b[0m in \u001b[0;36m<module>\u001b[1;34m\u001b[0m\n\u001b[0;32m      1\u001b[0m \u001b[0miris\u001b[0m \u001b[1;33m=\u001b[0m \u001b[0msns\u001b[0m\u001b[1;33m.\u001b[0m\u001b[0mload_dataset\u001b[0m\u001b[1;33m(\u001b[0m\u001b[1;34m\"iris\"\u001b[0m\u001b[1;33m)\u001b[0m\u001b[1;33m\u001b[0m\u001b[1;33m\u001b[0m\u001b[0m\n\u001b[1;32m----> 2\u001b[1;33m \u001b[0msns\u001b[0m\u001b[1;33m.\u001b[0m\u001b[0mload_dataset\u001b[0m\u001b[1;33m(\u001b[0m\u001b[0miris\u001b[0m\u001b[1;33m[\u001b[0m\u001b[1;34m\"sepal_lenght\"\u001b[0m\u001b[1;33m]\u001b[0m\u001b[1;33m,\u001b[0m \u001b[0mshade\u001b[0m\u001b[1;33m=\u001b[0m\u001b[0mtrue\u001b[0m\u001b[1;33m)\u001b[0m\u001b[1;33m\u001b[0m\u001b[1;33m\u001b[0m\u001b[0m\n\u001b[0m\u001b[0;32m      3\u001b[0m \u001b[0mplt\u001b[0m\u001b[1;33m.\u001b[0m\u001b[0mshow\u001b[0m\u001b[1;33m(\u001b[0m\u001b[1;33m)\u001b[0m\u001b[1;33m\u001b[0m\u001b[1;33m\u001b[0m\u001b[0m\n",
      "\u001b[1;32mC:\\ProgramData\\Anaconda3\\lib\\site-packages\\pandas\\core\\frame.py\u001b[0m in \u001b[0;36m__getitem__\u001b[1;34m(self, key)\u001b[0m\n\u001b[0;32m   3503\u001b[0m             \u001b[1;32mif\u001b[0m \u001b[0mself\u001b[0m\u001b[1;33m.\u001b[0m\u001b[0mcolumns\u001b[0m\u001b[1;33m.\u001b[0m\u001b[0mnlevels\u001b[0m \u001b[1;33m>\u001b[0m \u001b[1;36m1\u001b[0m\u001b[1;33m:\u001b[0m\u001b[1;33m\u001b[0m\u001b[1;33m\u001b[0m\u001b[0m\n\u001b[0;32m   3504\u001b[0m                 \u001b[1;32mreturn\u001b[0m \u001b[0mself\u001b[0m\u001b[1;33m.\u001b[0m\u001b[0m_getitem_multilevel\u001b[0m\u001b[1;33m(\u001b[0m\u001b[0mkey\u001b[0m\u001b[1;33m)\u001b[0m\u001b[1;33m\u001b[0m\u001b[1;33m\u001b[0m\u001b[0m\n\u001b[1;32m-> 3505\u001b[1;33m             \u001b[0mindexer\u001b[0m \u001b[1;33m=\u001b[0m \u001b[0mself\u001b[0m\u001b[1;33m.\u001b[0m\u001b[0mcolumns\u001b[0m\u001b[1;33m.\u001b[0m\u001b[0mget_loc\u001b[0m\u001b[1;33m(\u001b[0m\u001b[0mkey\u001b[0m\u001b[1;33m)\u001b[0m\u001b[1;33m\u001b[0m\u001b[1;33m\u001b[0m\u001b[0m\n\u001b[0m\u001b[0;32m   3506\u001b[0m             \u001b[1;32mif\u001b[0m \u001b[0mis_integer\u001b[0m\u001b[1;33m(\u001b[0m\u001b[0mindexer\u001b[0m\u001b[1;33m)\u001b[0m\u001b[1;33m:\u001b[0m\u001b[1;33m\u001b[0m\u001b[1;33m\u001b[0m\u001b[0m\n\u001b[0;32m   3507\u001b[0m                 \u001b[0mindexer\u001b[0m \u001b[1;33m=\u001b[0m \u001b[1;33m[\u001b[0m\u001b[0mindexer\u001b[0m\u001b[1;33m]\u001b[0m\u001b[1;33m\u001b[0m\u001b[1;33m\u001b[0m\u001b[0m\n",
      "\u001b[1;32mC:\\ProgramData\\Anaconda3\\lib\\site-packages\\pandas\\core\\indexes\\base.py\u001b[0m in \u001b[0;36mget_loc\u001b[1;34m(self, key, method, tolerance)\u001b[0m\n\u001b[0;32m   3629\u001b[0m                 \u001b[1;32mreturn\u001b[0m \u001b[0mself\u001b[0m\u001b[1;33m.\u001b[0m\u001b[0m_engine\u001b[0m\u001b[1;33m.\u001b[0m\u001b[0mget_loc\u001b[0m\u001b[1;33m(\u001b[0m\u001b[0mcasted_key\u001b[0m\u001b[1;33m)\u001b[0m\u001b[1;33m\u001b[0m\u001b[1;33m\u001b[0m\u001b[0m\n\u001b[0;32m   3630\u001b[0m             \u001b[1;32mexcept\u001b[0m \u001b[0mKeyError\u001b[0m \u001b[1;32mas\u001b[0m \u001b[0merr\u001b[0m\u001b[1;33m:\u001b[0m\u001b[1;33m\u001b[0m\u001b[1;33m\u001b[0m\u001b[0m\n\u001b[1;32m-> 3631\u001b[1;33m                 \u001b[1;32mraise\u001b[0m \u001b[0mKeyError\u001b[0m\u001b[1;33m(\u001b[0m\u001b[0mkey\u001b[0m\u001b[1;33m)\u001b[0m \u001b[1;32mfrom\u001b[0m \u001b[0merr\u001b[0m\u001b[1;33m\u001b[0m\u001b[1;33m\u001b[0m\u001b[0m\n\u001b[0m\u001b[0;32m   3632\u001b[0m             \u001b[1;32mexcept\u001b[0m \u001b[0mTypeError\u001b[0m\u001b[1;33m:\u001b[0m\u001b[1;33m\u001b[0m\u001b[1;33m\u001b[0m\u001b[0m\n\u001b[0;32m   3633\u001b[0m                 \u001b[1;31m# If we have a listlike key, _check_indexing_error will raise\u001b[0m\u001b[1;33m\u001b[0m\u001b[1;33m\u001b[0m\u001b[0m\n",
      "\u001b[1;31mKeyError\u001b[0m: 'sepal_lenght'"
     ]
    }
   ],
   "source": [
    "iris = sns.load_dataset(\"iris\")\n",
    "sns.load_dataset(iris[\"sepal_lenght\"], shade=true)\n",
    "plt.show()"
   ]
  },
  {
   "cell_type": "code",
   "execution_count": null,
   "id": "2ac35134",
   "metadata": {},
   "outputs": [],
   "source": []
  }
 ],
 "metadata": {
  "kernelspec": {
   "display_name": "Python 3 (ipykernel)",
   "language": "python",
   "name": "python3"
  },
  "language_info": {
   "codemirror_mode": {
    "name": "ipython",
    "version": 3
   },
   "file_extension": ".py",
   "mimetype": "text/x-python",
   "name": "python",
   "nbconvert_exporter": "python",
   "pygments_lexer": "ipython3",
   "version": "3.9.13"
  }
 },
 "nbformat": 4,
 "nbformat_minor": 5
}
