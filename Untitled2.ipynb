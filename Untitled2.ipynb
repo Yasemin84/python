{
 "cells": [
  {
   "cell_type": "code",
   "execution_count": 6,
   "id": "c5e899c9",
   "metadata": {},
   "outputs": [
    {
     "name": "stdout",
     "output_type": "stream",
     "text": [
      "merhaba\n",
      "nasılsın\n",
      "\tiyi misin\n"
     ]
    }
   ],
   "source": [
    "print (\"merhaba\\nnasılsın\\n\\tiyi misin\")"
   ]
  },
  {
   "cell_type": "code",
   "execution_count": 9,
   "id": "41b20b0a",
   "metadata": {},
   "outputs": [
    {
     "name": "stdout",
     "output_type": "stream",
     "text": [
      "<class 'int'>\n"
     ]
    }
   ],
   "source": [
    "a=65\n",
    "print (type(a))"
   ]
  },
  {
   "cell_type": "code",
   "execution_count": 12,
   "id": "28174355",
   "metadata": {},
   "outputs": [
    {
     "name": "stdout",
     "output_type": "stream",
     "text": [
      "<class 'str'>\n"
     ]
    }
   ],
   "source": [
    "a=\"Öğretmen\"\n",
    "print (type(a))"
   ]
  },
  {
   "cell_type": "code",
   "execution_count": 13,
   "id": "de77e494",
   "metadata": {},
   "outputs": [
    {
     "name": "stdout",
     "output_type": "stream",
     "text": [
      "<class 'float'>\n"
     ]
    }
   ],
   "source": [
    "a=7.4\n",
    "print (type(a))"
   ]
  },
  {
   "cell_type": "code",
   "execution_count": 17,
   "id": "ecc6e511",
   "metadata": {},
   "outputs": [
    {
     "name": "stdout",
     "output_type": "stream",
     "text": [
      "<class 'str'>\n"
     ]
    }
   ],
   "source": [
    "a=\"%\"\n",
    "print (type(a))"
   ]
  },
  {
   "cell_type": "code",
   "execution_count": 18,
   "id": "aea9ca44",
   "metadata": {},
   "outputs": [
    {
     "name": "stdout",
     "output_type": "stream",
     "text": [
      "Yasemin&Kadir\n"
     ]
    }
   ],
   "source": [
    "print (\"Yasemin\",\"Kadir\",sep=\"&\")"
   ]
  },
  {
   "cell_type": "code",
   "execution_count": 19,
   "id": "e10b2202",
   "metadata": {},
   "outputs": [
    {
     "name": "stdout",
     "output_type": "stream",
     "text": [
      "elma/armut/kiraz/erik/kivi/muz\n"
     ]
    }
   ],
   "source": [
    "print(\"elma\", \"armut\",\"kiraz\",\"erik\",\"kivi\",\"muz\", sep=\"/\")"
   ]
  },
  {
   "cell_type": "code",
   "execution_count": 20,
   "id": "695c11ed",
   "metadata": {},
   "outputs": [
    {
     "name": "stdout",
     "output_type": "stream",
     "text": [
      "Yasemin<3Kadir\n"
     ]
    }
   ],
   "source": [
    "print (\"Yasemin\",\"Kadir\",sep=\"<3\")"
   ]
  },
  {
   "cell_type": "code",
   "execution_count": 21,
   "id": "def51f94",
   "metadata": {},
   "outputs": [
    {
     "name": "stdout",
     "output_type": "stream",
     "text": [
      "P\n",
      "M\n",
      "T\n",
      "A\n",
      "L\n"
     ]
    }
   ],
   "source": [
    "print(*\"PMTAL\", sep=\"\\n\")"
   ]
  },
  {
   "cell_type": "code",
   "execution_count": 22,
   "id": "659afc41",
   "metadata": {},
   "outputs": [
    {
     "name": "stdout",
     "output_type": "stream",
     "text": [
      "M\n",
      "e\n",
      "r\n",
      "h\n",
      "a\n",
      "b\n",
      "a\n",
      " \n",
      "n\n",
      "a\n",
      "s\n",
      "ı\n",
      "l\n",
      "s\n",
      "ı\n",
      "n\n",
      " \n",
      "i\n",
      "y\n",
      "i\n",
      " \n",
      "m\n",
      "i\n",
      "s\n",
      "i\n",
      "n\n",
      "?\n"
     ]
    }
   ],
   "source": [
    "print(*\"Merhaba nasılsın iyi misin?\", sep=\"\\n\")"
   ]
  },
  {
   "cell_type": "code",
   "execution_count": null,
   "id": "9250868c",
   "metadata": {},
   "outputs": [],
   "source": []
  }
 ],
 "metadata": {
  "kernelspec": {
   "display_name": "Python 3 (ipykernel)",
   "language": "python",
   "name": "python3"
  },
  "language_info": {
   "codemirror_mode": {
    "name": "ipython",
    "version": 3
   },
   "file_extension": ".py",
   "mimetype": "text/x-python",
   "name": "python",
   "nbconvert_exporter": "python",
   "pygments_lexer": "ipython3",
   "version": "3.9.13"
  }
 },
 "nbformat": 4,
 "nbformat_minor": 5
}
