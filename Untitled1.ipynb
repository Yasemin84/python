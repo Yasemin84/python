{
 "cells": [
  {
   "cell_type": "code",
   "execution_count": 1,
   "id": "f41f2019",
   "metadata": {},
   "outputs": [
    {
     "name": "stdout",
     "output_type": "stream",
     "text": [
      "Lütfen bir sayı giriniz.df\n"
     ]
    },
    {
     "data": {
      "text/plain": [
       "'df'"
      ]
     },
     "execution_count": 1,
     "metadata": {},
     "output_type": "execute_result"
    }
   ],
   "source": [
    "input (\"Lütfen bir sayı giriniz.\")"
   ]
  },
  {
   "cell_type": "code",
   "execution_count": 2,
   "id": "6e0171eb",
   "metadata": {},
   "outputs": [
    {
     "name": "stdout",
     "output_type": "stream",
     "text": [
      "Lütfen doğum tarihinizi giriniz.20.11.1984\n"
     ]
    },
    {
     "data": {
      "text/plain": [
       "'20.11.1984'"
      ]
     },
     "execution_count": 2,
     "metadata": {},
     "output_type": "execute_result"
    }
   ],
   "source": [
    "input (\"Lütfen doğum tarihinizi giriniz.\")"
   ]
  },
  {
   "cell_type": "code",
   "execution_count": 3,
   "id": "060a7f94",
   "metadata": {},
   "outputs": [
    {
     "name": "stdout",
     "output_type": "stream",
     "text": [
      "Lütfen telefon numaranızı yazınız.5464507626\n"
     ]
    },
    {
     "data": {
      "text/plain": [
       "'5464507626'"
      ]
     },
     "execution_count": 3,
     "metadata": {},
     "output_type": "execute_result"
    }
   ],
   "source": [
    "input (\"Lütfen telefon numaranızı yazınız.\")"
   ]
  },
  {
   "cell_type": "code",
   "execution_count": 4,
   "id": "ebddce02",
   "metadata": {},
   "outputs": [
    {
     "name": "stdout",
     "output_type": "stream",
     "text": [
      "Lütfen adınızı ve soy adınızı yazınız.Yasemin Yiğit\n"
     ]
    },
    {
     "data": {
      "text/plain": [
       "'Yasemin Yiğit'"
      ]
     },
     "execution_count": 4,
     "metadata": {},
     "output_type": "execute_result"
    }
   ],
   "source": [
    "input (\"Lütfen adınızı ve soy adınızı yazınız.\")"
   ]
  },
  {
   "cell_type": "code",
   "execution_count": 5,
   "id": "2261e52c",
   "metadata": {},
   "outputs": [
    {
     "name": "stdout",
     "output_type": "stream",
     "text": [
      "lütfen bir sayı giriniz78\n",
      "girdiğiniz sayı: 78\n"
     ]
    }
   ],
   "source": [
    "a=input (\"lütfen bir sayı giriniz\")\n",
    "print (\"girdiğiniz sayı:\",a)"
   ]
  },
  {
   "cell_type": "code",
   "execution_count": 10,
   "id": "a9f080b5",
   "metadata": {},
   "outputs": [
    {
     "name": "stdout",
     "output_type": "stream",
     "text": [
      "1.sınav notunu giriniz:70\n",
      "2.sınav notunu giriniz:77\n",
      "3.sınav notunu giriniz:72\n",
      "4.sınav notunu giriniz:67\n",
      "5.sınav notunu giriniz:97\n",
      "ortalama 76.6\n"
     ]
    }
   ],
   "source": [
    "Vize1=int (input(\"1.sınav notunu giriniz:\"))\n",
    "Vize2=int (input(\"2.sınav notunu giriniz:\"))\n",
    "Vize3=int (input(\"3.sınav notunu giriniz:\"))\n",
    "Vize4=int (input(\"4.sınav notunu giriniz:\"))\n",
    "Vize5=int (input(\"5.sınav notunu giriniz:\"))\n",
    "ort= (Vize1+Vize2+Vize3+Vize4+Vize5)/5\n",
    "print (\"ortalama\",ort)"
   ]
  },
  {
   "cell_type": "code",
   "execution_count": null,
   "id": "5255d56d",
   "metadata": {},
   "outputs": [],
   "source": []
  }
 ],
 "metadata": {
  "kernelspec": {
   "display_name": "Python 3 (ipykernel)",
   "language": "python",
   "name": "python3"
  },
  "language_info": {
   "codemirror_mode": {
    "name": "ipython",
    "version": 3
   },
   "file_extension": ".py",
   "mimetype": "text/x-python",
   "name": "python",
   "nbconvert_exporter": "python",
   "pygments_lexer": "ipython3",
   "version": "3.9.13"
  }
 },
 "nbformat": 4,
 "nbformat_minor": 5
}
