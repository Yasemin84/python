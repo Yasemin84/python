{
 "cells": [
  {
   "cell_type": "code",
   "execution_count": 6,
   "id": "1f9e0a7b",
   "metadata": {},
   "outputs": [
    {
     "name": "stdout",
     "output_type": "stream",
     "text": [
      "Yaşınızı giriniz.38\n",
      "Ehliyet kursuna kaydolabilir.\n"
     ]
    }
   ],
   "source": [
    "yas=int(input(\"Yaşınızı giriniz.\"))\n",
    "if(yas>18):\n",
    "    print(\"Ehliyet kursuna kaydolabilir.\")"
   ]
  },
  {
   "cell_type": "code",
   "execution_count": 15,
   "id": "f7fafbf2",
   "metadata": {},
   "outputs": [
    {
     "name": "stdout",
     "output_type": "stream",
     "text": [
      "Yaşınızı giriniz:16\n",
      "Ehliyet kursuna kaydolamaz.\n"
     ]
    }
   ],
   "source": [
    "yas=int(input(\"Yaşınızı giriniz:\"))\n",
    "if(yas>18):\n",
    "    print(\"Ehliyet kursuna kaydolabilir.\")\n",
    "if(yas<18):\n",
    "    print(\"Ehliyet kursuna kaydolamaz.\")"
   ]
  },
  {
   "cell_type": "code",
   "execution_count": 27,
   "id": "41802901",
   "metadata": {},
   "outputs": [
    {
     "name": "stdout",
     "output_type": "stream",
     "text": [
      "Cinsiyetini yazınız.Kadın\n",
      "İçeri girebilir.\n"
     ]
    }
   ],
   "source": [
    "cinsiyet=input(\"Cinsiyetini yazınız.\")\n",
    "if(cinsiyet==\"Kadın\"):\n",
    "    print(\"İçeri girebilir.\")"
   ]
  },
  {
   "cell_type": "code",
   "execution_count": 31,
   "id": "a828cf78",
   "metadata": {},
   "outputs": [
    {
     "name": "stdout",
     "output_type": "stream",
     "text": [
      "Veri yazınız:7\n",
      "Kodlamanın başında int yazılacak\n"
     ]
    }
   ],
   "source": [
    "Veri=input(\"Veri yazınız:\")\n",
    "if(Veri==0,1,2,3,4,5,6,7,8,9):\n",
    "    print(\"Kodlamanın başında int yazılacak\")"
   ]
  },
  {
   "cell_type": "code",
   "execution_count": null,
   "id": "2479299b",
   "metadata": {},
   "outputs": [],
   "source": []
  }
 ],
 "metadata": {
  "kernelspec": {
   "display_name": "Python 3 (ipykernel)",
   "language": "python",
   "name": "python3"
  },
  "language_info": {
   "codemirror_mode": {
    "name": "ipython",
    "version": 3
   },
   "file_extension": ".py",
   "mimetype": "text/x-python",
   "name": "python",
   "nbconvert_exporter": "python",
   "pygments_lexer": "ipython3",
   "version": "3.9.13"
  }
 },
 "nbformat": 4,
 "nbformat_minor": 5
}
